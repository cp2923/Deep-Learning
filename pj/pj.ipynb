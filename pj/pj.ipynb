{
 "cells": [
  {
   "cell_type": "code",
   "execution_count": 13,
   "metadata": {
    "collapsed": false
   },
   "outputs": [],
   "source": [
    "import librosa\n",
    "import os\n",
    "import numpy as np\n",
    "from os import walk\n",
    "import pickle"
   ]
  },
  {
   "cell_type": "code",
   "execution_count": 14,
   "metadata": {
    "collapsed": false
   },
   "outputs": [],
   "source": [
    "def tdataset(point):\n",
    "    for path, dirs, files in os.walk('Wavfile'):\n",
    "        files = [f for f in files if not f[0] == '.']\n",
    "    for name in files:\n",
    "        y, sr = librosa.load('Wavfile/'+ name, sr=16000, mono=False)\n",
    "        D = librosa.stft(y[0] + y[1], n_fft = 1024, hop_length = 512)[:,:point]\n",
    "        D1 = librosa.stft(y[0], n_fft = 1024, hop_length = 512)[:,:point]\n",
    "        D2 = librosa.stft(y[1], n_fft = 1024, hop_length = 512)[:,:point]\n",
    "        if D.shape[1] < point:\n",
    "            tmp = np.zeros((513,point - D.shape[1]),dtype = float)\n",
    "            D = np.column_stack((D, tmp))\n",
    "        if D1.shape[1] < point:\n",
    "            tmp = np.zeros((513,point - D1.shape[1]),dtype = float)\n",
    "            D1 = np.column_stack((D1, tmp))\n",
    "        if D2.shape[1] < point:\n",
    "            tmp = np.zeros((513,point - D2.shape[1]),dtype = float)\n",
    "            D2 = np.column_stack((D2, tmp))\n",
    "        magnitude, phase = librosa.magphase(D)\n",
    "        magnitude = magnitude.T.flatten()\n",
    "        phase = phase.T.flatten()\n",
    "        magnitude1, phase1 = librosa.magphase(D1)\n",
    "        magnitude1 = magnitude1.T.flatten()\n",
    "        phase1 = phase1.T.flatten()\n",
    "        magnitude2, phase2 = librosa.magphase(D2)\n",
    "        magnitude2 = magnitude2.T.flatten()\n",
    "        phase2 = phase2.T.flatten()\n",
    "        if name[:3] == 'amy' or name[:7] == 'abjones':\n",
    "            if name == 'amy_9_08.wav' or name == 'amy_9_09.wav' or name == 'abjones_5_08.wav' or name == 'abjones_5_09.wav':              \n",
    "                try:\n",
    "                    dva = np.vstack((dva,magnitude))\n",
    "                    pva = np.vstack((ptr,phase))\n",
    "                except UnboundLocalError:\n",
    "                    dva = magnitude\n",
    "                    pva = phase\n",
    "                try:\n",
    "                    d1va = np.vstack((d1va,magnitude1))\n",
    "                    p1va = np.vstack((p1va,phase1))\n",
    "                except UnboundLocalError:\n",
    "                    d1va = magnitude1\n",
    "                    p1va = phase1\n",
    "                try:\n",
    "                    d2va = np.vstack((d2va,magnitude2))\n",
    "                    p2va = np.vstack((p2va,phase2))\n",
    "                except UnboundLocalError:\n",
    "                    d2va = magnitude2\n",
    "                    p2va = phase2\n",
    "            else:\n",
    "                try:\n",
    "                    dtr = np.vstack((dtr,magnitude))\n",
    "                    ptr = np.vstack((ptr,phase))\n",
    "                except UnboundLocalError:\n",
    "                    dtr = magnitude\n",
    "                    ptr = phase\n",
    "                try:\n",
    "                    d1tr = np.vstack((d1tr,magnitude1))\n",
    "                    p1tr = np.vstack((p1tr,phase1))\n",
    "                except UnboundLocalError:\n",
    "                    d1tr = magnitude1\n",
    "                    p1tr = phase1\n",
    "                try:\n",
    "                    d2tr = np.vstack((d2tr,magnitude2))\n",
    "                    p2tr = np.vstack((p2tr,phase2))\n",
    "                except UnboundLocalError:\n",
    "                    d2tr = magnitude2\n",
    "                    p2tr = phase2\n",
    "\n",
    "        else:\n",
    "            try:\n",
    "                dte = np.vstack((dte,magnitude))\n",
    "                pte = np.vstack((pte,phase))\n",
    "            except UnboundLocalError:\n",
    "                dte = magnitude\n",
    "                pte = phase\n",
    "            try:\n",
    "                d1te = np.vstack((d1te,magnitude1))\n",
    "                p1te = np.vstack((p1te,phase1))\n",
    "            except UnboundLocalError:\n",
    "                d1te = magnitude1\n",
    "                p1te = phase1\n",
    "            try:\n",
    "                d2te = np.vstack((d2te,magnitude2))\n",
    "                p2te = np.vstack((p2te,phase2))\n",
    "            except UnboundLocalError:\n",
    "                d2te = magnitude2\n",
    "                p2te = phase2\n",
    "    trdata = [dtr,d1tr,d2tr]\n",
    "    tedata = [dte,d1te,d2te]\n",
    "    trphase = [ptr, p1tr,p2tr]\n",
    "    tephase = [pte, p1te,p2te]\n",
    "    vadata = [dva,d1va,d2va]\n",
    "    vaphase = [pva,p1va,p2va]\n",
    "    return trdata ,tedata, trphase, tephase, vadata, vaphase"
   ]
  },
  {
   "cell_type": "code",
   "execution_count": 15,
   "metadata": {
    "collapsed": false
   },
   "outputs": [],
   "source": [
    "trdata ,tedata, trphase, tephase, vadata, vaphase = tdataset(100)"
   ]
  },
  {
   "cell_type": "code",
   "execution_count": 16,
   "metadata": {
    "collapsed": false
   },
   "outputs": [],
   "source": [
    "pickle.dump( trdata, open( \"trdata.p\", \"wb\" ) )\n",
    "pickle.dump( tedata, open( \"tedata.p\", \"wb\" ) )\n",
    "pickle.dump( trphase, open( \"trphase.p\", \"wb\" ) )\n",
    "pickle.dump( tephase, open( \"tephase.p\", \"wb\" ) )\n",
    "pickle.dump( vadata, open( \"vadata.p\", \"wb\" ) )\n",
    "pickle.dump( vaphase, open( \"vaphase.p\", \"wb\" ) )"
   ]
  },
  {
   "cell_type": "code",
   "execution_count": null,
   "metadata": {
    "collapsed": false
   },
   "outputs": [
    {
     "name": "stdout",
     "output_type": "stream",
     "text": [
      "... building the model\n"
     ]
    }
   ],
   "source": [
    "from pj_nn import test_DRNN\n",
    "out = test_DRNN(tedata ,trdata, vadata, learning_rate=0.06, n_epochs=20, batch_size=1, point = 100)"
   ]
  },
  {
   "cell_type": "code",
   "execution_count": 6,
   "metadata": {
    "collapsed": false
   },
   "outputs": [
    {
     "data": {
      "text/plain": [
       "(825, 51300)"
      ]
     },
     "execution_count": 6,
     "metadata": {},
     "output_type": "execute_result"
    }
   ],
   "source": [
    "tedata[1].shape"
   ]
  },
  {
   "cell_type": "code",
   "execution_count": 7,
   "metadata": {
    "collapsed": false
   },
   "outputs": [
    {
     "data": {
      "text/plain": [
       "array([[2, 3, 4],\n",
       "       [4, 5, 6],\n",
       "       [1, 2, 3]])"
      ]
     },
     "execution_count": 7,
     "metadata": {},
     "output_type": "execute_result"
    }
   ],
   "source": [
    "a = [[2,3,4],[4,5,6]]\n",
    "b = [1,2,3]\n",
    "np.vstack((a,b))"
   ]
  },
  {
   "cell_type": "code",
   "execution_count": 8,
   "metadata": {
    "collapsed": false
   },
   "outputs": [
    {
     "data": {
      "text/plain": [
       "[array([[  1.39714193e+00,   1.20462580e-02,   7.23490119e-01, ...,\n",
       "           4.42754954e-01,   7.59301126e-01,   4.22601312e-01],\n",
       "        [  2.98981166e+00,   8.62298459e-02,   4.44733948e-01, ...,\n",
       "           5.14539219e-02,   8.02500267e-03,   1.81616917e-02],\n",
       "        [  3.51240516e+00,   8.86603177e-01,   3.54337066e-01, ...,\n",
       "           1.33638131e-02,   6.72096908e-02,   3.34075186e-03]], dtype=float32),\n",
       " array([[  1.10531092e+00,   2.54938811e-01,   1.10600516e-01, ...,\n",
       "           4.42247689e-01,   7.58728623e-01,   4.23738837e-01],\n",
       "        [  2.95182610e+00,   8.86266232e-02,   4.08591986e-01, ...,\n",
       "           5.43312132e-02,   5.97698381e-04,   1.77122671e-02],\n",
       "        [  3.50054312e+00,   8.86082411e-01,   5.18601656e-01, ...,\n",
       "           9.16802324e-03,   6.84166923e-02,   5.15744695e-03]], dtype=float32),\n",
       " array([[  2.91831076e-01,   2.66985059e-01,   8.34090650e-01, ...,\n",
       "           5.07264980e-04,   5.72485267e-04,   1.13754382e-03],\n",
       "        [  3.79857160e-02,   2.39677518e-03,   3.61419767e-02, ...,\n",
       "           2.87729083e-03,   8.62270128e-03,   4.49423387e-04],\n",
       "        [  1.18621923e-02,   5.20774978e-04,   1.64264604e-01, ...,\n",
       "           4.19578981e-03,   1.20700523e-03,   1.81669474e-03]], dtype=float32)]"
      ]
     },
     "execution_count": 8,
     "metadata": {},
     "output_type": "execute_result"
    }
   ],
   "source": [
    "vadata"
   ]
  },
  {
   "cell_type": "code",
   "execution_count": 9,
   "metadata": {
    "collapsed": false
   },
   "outputs": [
    {
     "ename": "AttributeError",
     "evalue": "'str' object has no attribute 'readline'",
     "output_type": "error",
     "traceback": [
      "\u001b[0;31m---------------------------------------------------------------------------\u001b[0m",
      "\u001b[0;31mAttributeError\u001b[0m                            Traceback (most recent call last)",
      "\u001b[0;32m<ipython-input-9-c5e168e4df19>\u001b[0m in \u001b[0;36m<module>\u001b[0;34m()\u001b[0m\n\u001b[0;32m----> 1\u001b[0;31m \u001b[0mpickle\u001b[0m\u001b[0;34m.\u001b[0m\u001b[0mload\u001b[0m\u001b[0;34m(\u001b[0m\u001b[0;34m\"vadata.p\"\u001b[0m\u001b[0;34m)\u001b[0m\u001b[0;34m\u001b[0m\u001b[0m\n\u001b[0m",
      "\u001b[0;32m/Users/chang/anaconda/lib/python2.7/pickle.pyc\u001b[0m in \u001b[0;36mload\u001b[0;34m(file)\u001b[0m\n\u001b[1;32m   1382\u001b[0m \u001b[0;34m\u001b[0m\u001b[0m\n\u001b[1;32m   1383\u001b[0m \u001b[0;32mdef\u001b[0m \u001b[0mload\u001b[0m\u001b[0;34m(\u001b[0m\u001b[0mfile\u001b[0m\u001b[0;34m)\u001b[0m\u001b[0;34m:\u001b[0m\u001b[0;34m\u001b[0m\u001b[0m\n\u001b[0;32m-> 1384\u001b[0;31m     \u001b[0;32mreturn\u001b[0m \u001b[0mUnpickler\u001b[0m\u001b[0;34m(\u001b[0m\u001b[0mfile\u001b[0m\u001b[0;34m)\u001b[0m\u001b[0;34m.\u001b[0m\u001b[0mload\u001b[0m\u001b[0;34m(\u001b[0m\u001b[0;34m)\u001b[0m\u001b[0;34m\u001b[0m\u001b[0m\n\u001b[0m\u001b[1;32m   1385\u001b[0m \u001b[0;34m\u001b[0m\u001b[0m\n\u001b[1;32m   1386\u001b[0m \u001b[0;32mdef\u001b[0m \u001b[0mloads\u001b[0m\u001b[0;34m(\u001b[0m\u001b[0mstr\u001b[0m\u001b[0;34m)\u001b[0m\u001b[0;34m:\u001b[0m\u001b[0;34m\u001b[0m\u001b[0m\n",
      "\u001b[0;32m/Users/chang/anaconda/lib/python2.7/pickle.pyc\u001b[0m in \u001b[0;36m__init__\u001b[0;34m(self, file)\u001b[0m\n\u001b[1;32m    845\u001b[0m         \u001b[0;32mor\u001b[0m \u001b[0many\u001b[0m \u001b[0mother\u001b[0m \u001b[0mcustom\u001b[0m \u001b[0mobject\u001b[0m \u001b[0mthat\u001b[0m \u001b[0mmeets\u001b[0m \u001b[0mthis\u001b[0m \u001b[0minterface\u001b[0m\u001b[0;34m.\u001b[0m\u001b[0;34m\u001b[0m\u001b[0m\n\u001b[1;32m    846\u001b[0m         \"\"\"\n\u001b[0;32m--> 847\u001b[0;31m         \u001b[0mself\u001b[0m\u001b[0;34m.\u001b[0m\u001b[0mreadline\u001b[0m \u001b[0;34m=\u001b[0m \u001b[0mfile\u001b[0m\u001b[0;34m.\u001b[0m\u001b[0mreadline\u001b[0m\u001b[0;34m\u001b[0m\u001b[0m\n\u001b[0m\u001b[1;32m    848\u001b[0m         \u001b[0mself\u001b[0m\u001b[0;34m.\u001b[0m\u001b[0mread\u001b[0m \u001b[0;34m=\u001b[0m \u001b[0mfile\u001b[0m\u001b[0;34m.\u001b[0m\u001b[0mread\u001b[0m\u001b[0;34m\u001b[0m\u001b[0m\n\u001b[1;32m    849\u001b[0m         \u001b[0mself\u001b[0m\u001b[0;34m.\u001b[0m\u001b[0mmemo\u001b[0m \u001b[0;34m=\u001b[0m \u001b[0;34m{\u001b[0m\u001b[0;34m}\u001b[0m\u001b[0;34m\u001b[0m\u001b[0m\n",
      "\u001b[0;31mAttributeError\u001b[0m: 'str' object has no attribute 'readline'"
     ]
    }
   ],
   "source": [
    "pickle.load(\"vadata.p\")"
   ]
  },
  {
   "cell_type": "code",
   "execution_count": 10,
   "metadata": {
    "collapsed": false
   },
   "outputs": [],
   "source": [
    "vadata = pickle.load( open( \"vadata.p\", \"rb\" ) )"
   ]
  },
  {
   "cell_type": "code",
   "execution_count": 11,
   "metadata": {
    "collapsed": false
   },
   "outputs": [
    {
     "data": {
      "text/plain": [
       "3"
      ]
     },
     "execution_count": 11,
     "metadata": {},
     "output_type": "execute_result"
    }
   ],
   "source": [
    "len(vadata)"
   ]
  },
  {
   "cell_type": "code",
   "execution_count": 12,
   "metadata": {
    "collapsed": false
   },
   "outputs": [
    {
     "data": {
      "text/plain": [
       "(3, 51300)"
      ]
     },
     "execution_count": 12,
     "metadata": {},
     "output_type": "execute_result"
    }
   ],
   "source": [
    "vadata[2].shape"
   ]
  },
  {
   "cell_type": "code",
   "execution_count": null,
   "metadata": {
    "collapsed": true
   },
   "outputs": [],
   "source": []
  }
 ],
 "metadata": {
  "anaconda-cloud": {},
  "kernelspec": {
   "display_name": "Python [conda root]",
   "language": "python",
   "name": "conda-root-py"
  },
  "language_info": {
   "codemirror_mode": {
    "name": "ipython",
    "version": 2
   },
   "file_extension": ".py",
   "mimetype": "text/x-python",
   "name": "python",
   "nbconvert_exporter": "python",
   "pygments_lexer": "ipython2",
   "version": "2.7.12"
  }
 },
 "nbformat": 4,
 "nbformat_minor": 1
}
