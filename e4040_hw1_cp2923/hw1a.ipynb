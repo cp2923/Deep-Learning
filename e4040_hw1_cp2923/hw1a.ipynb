{
 "cells": [
  {
   "cell_type": "code",
   "execution_count": 1,
   "metadata": {
    "collapsed": false
   },
   "outputs": [],
   "source": [
    "import os\n",
    "from os import walk\n",
    "import numpy as np\n",
    "import matplotlib as mpl\n",
    "mpl.use('Agg')\n",
    "import matplotlib.pyplot as plt\n",
    "import matplotlib.cm as cm\n",
    "import numpy.linalg as linalg\n",
    "\n",
    "from PIL import Image"
   ]
  },
  {
   "cell_type": "code",
   "execution_count": 2,
   "metadata": {
    "collapsed": true
   },
   "outputs": [],
   "source": [
    "'''\n",
    "Implement the functions that were not implemented and complete the\n",
    "parts of main according to the instructions in comments.\n",
    "'''\n",
    "\n",
    "def reconstructed_image(D,c,num_coeffs,X_mean,n_blocks,im_num):\n",
    "    '''\n",
    "    This function reconstructs an image X_recon_img given the number of\n",
    "    coefficients for each image specified by num_coeffs\n",
    "    '''\n",
    "    \n",
    "    '''\n",
    "        Parameters\n",
    "    ---------------\n",
    "    c: np.ndarray\n",
    "        a n x m matrix  representing the coefficients of all the image blocks.\n",
    "        n represents the maximum dimension of the PCA space.\n",
    "        m is (number of images x n_blocks**2)\n",
    "\n",
    "    D: np.ndarray\n",
    "        an N x n matrix representing the basis vectors of the PCA space\n",
    "        N is the dimension of the original space (number of pixels in a block)\n",
    "\n",
    "    im_num: Integer\n",
    "        index of the image to visualize\n",
    "\n",
    "    X_mean: np.ndarray\n",
    "        a matrix representing the mean block.\n",
    "\n",
    "    num_coeffs: Integer\n",
    "        an integer that specifies the number of top components to be\n",
    "        considered while reconstructing\n",
    "        \n",
    "\n",
    "    n_blocks: Integer\n",
    "        number of blocks comprising the image in each direction.\n",
    "        For example, for a 256x256 image divided into 64x64 blocks, n_blocks will be 4\n",
    "    '''\n",
    "    \n",
    "    c_im = c[:num_coeffs,n_blocks*n_blocks*im_num:n_blocks*n_blocks*(im_num+1)]\n",
    "    D_im = D[:,:num_coeffs]\n",
    "    \n",
    "    \n",
    "    #TODO: Enter code below for reconstructing the image X_recon_img\n",
    "    #......................\n",
    "    #......................\n",
    "    #X_recon_img = ........\n",
    "    X_recon_img = np.zeros((256,256))\n",
    "    temp = np.dot(c_im.T,D_im.T)\n",
    "    sz = X_mean.shape[0]\n",
    "    for i in range(n_blocks):\n",
    "        for j in range(n_blocks):\n",
    "            X_recon_img[i*sz:(i+1)*sz,j*sz:(j+1)*sz] = temp[i*n_blocks+j].reshape(sz,sz) + X_mean\n",
    "    return X_recon_img"
   ]
  },
  {
   "cell_type": "code",
   "execution_count": 3,
   "metadata": {
    "collapsed": true
   },
   "outputs": [],
   "source": [
    "def plot_reconstructions(D,c,num_coeff_array,X_mean,n_blocks,im_num):\n",
    "    '''\n",
    "    Plots 9 reconstructions of a particular image using D as the basis matrix and coeffiecient\n",
    "    vectors from c\n",
    "\n",
    "    Parameters\n",
    "    ------------------------\n",
    "        num_coeff_array: Iterable\n",
    "            an iterable with 9 elements representing the number of coefficients\n",
    "            to use for reconstruction for each of the 9 plots\n",
    "        \n",
    "        c: np.ndarray\n",
    "            a n x m matrix  representing the coefficients of all the image blocks.\n",
    "            n represents the maximum dimension of the PCA space.\n",
    "            m is (number of images x n_blocks**2)\n",
    "\n",
    "        D: np.ndarray\n",
    "            an N x l matrix representing l basis vectors of the PCA space\n",
    "            N is the dimension of the original space (number of pixels in a block)\n",
    "\n",
    "        n_blocks: Integer\n",
    "            number of blocks comprising the image in each direction.\n",
    "            For example, for a 256x256 image divided into 64x64 blocks, n_blocks will be 4\n",
    "\n",
    "        X_mean: basis vectors represent the divergence from the mean so this\n",
    "            matrix should be added to all reconstructed blocks\n",
    "\n",
    "        im_num: Integer\n",
    "            index of the image to visualize\n",
    "    '''\n",
    "    f, axarr = plt.subplots(3,3)\n",
    "    for i in range(3):\n",
    "        for j in range(3):\n",
    "            plt.axes(axarr[i,j])\n",
    "            plt.imshow(reconstructed_image(D,c,num_coeff_array[i*3+j],X_mean,n_blocks,im_num))\n",
    "            \n",
    "    f.savefig('output/hw1a_{0}_im{1}.png'.format(n_blocks, im_num))\n",
    "    plt.close(f)"
   ]
  },
  {
   "cell_type": "code",
   "execution_count": 4,
   "metadata": {
    "collapsed": true
   },
   "outputs": [],
   "source": [
    "def plot_top_16(D, sz, imname):\n",
    "    '''\n",
    "    Plots the top 16 components from the basis matrix D.\n",
    "    Each basis vector represents an image block of shape (sz, sz)\n",
    "\n",
    "    Parameters\n",
    "    -------------\n",
    "    D: np.ndarray\n",
    "        N x n matrix representing the basis vectors of the PCA space\n",
    "        N is the dimension of the original space (number of pixels in a block)\n",
    "        n represents the maximum dimension of the PCA space (assumed to be atleast 16)\n",
    "\n",
    "    sz: Integer\n",
    "        The height and width of each block\n",
    "\n",
    "    imname: string\n",
    "        name of file where image will be saved.\n",
    "    '''\n",
    "    #TODO: Obtain top 16 components of D and plot them\n",
    "    f, axarr = plt.subplots(4,4)\n",
    "    for i in range(16):\n",
    "        plt.axes(axarr[int(np.floor(i/4)),np.mod(i,4)])\n",
    "        plt.imshow(D.T[i].reshape(sz,sz))\n",
    "            \n",
    "    f.savefig(imname)\n",
    "    plt.close(f)"
   ]
  },
  {
   "cell_type": "code",
   "execution_count": 7,
   "metadata": {
    "collapsed": false
   },
   "outputs": [
    {
     "name": "stdout",
     "output_type": "stream",
     "text": [
      "2016-10-04 16:50:41.135003\n",
      "2016-10-04 16:52:21.261357\n"
     ]
    }
   ],
   "source": [
    "def main():\n",
    "    '''\n",
    "    Read here all images(grayscale) from Fei_256 folder\n",
    "    into an numpy array Ims with size (no_images, height, width).\n",
    "    Make sure the images are read after sorting the filenames\n",
    "    '''\n",
    "    import datetime\n",
    "    print (datetime.datetime.now())\n",
    "    for path, dirs, files in os.walk('Fei_256'):\n",
    "        l = len(files)\n",
    "    Ims = np.zeros((l,256,256))\n",
    "    for i,name in zip(range(l),files):\n",
    "        Ims[i] = np.array(Image.open('Fei_256/'+ name), dtype= float)\n",
    "    #TODO: Read all images into a numpy array of size (no_images, height, width)\n",
    "    \n",
    "    szs = [8, 32, 64]\n",
    "    num_coeffs = [range(1, 10, 1), range(3, 30, 3), range(5, 50, 5)]\n",
    "    \n",
    "    for sz, nc in zip(szs, num_coeffs):\n",
    "        '''\n",
    "        Divide here each image into non-overlapping blocks of shape (sz, sz).\n",
    "        Flatten each block and arrange all the blocks in a\n",
    "        (no_images*n_blocks_in_image) x (sz*sz) matrix called X\n",
    "        ''' \n",
    "        n_blocks = int(256/sz)\n",
    "        X = np.zeros((l*n_blocks*n_blocks,sz*sz))\n",
    "        for i in range(l):\n",
    "            for j in range(n_blocks):\n",
    "                for k in range(n_blocks):\n",
    "                    X[i*n_blocks*n_blocks+j*n_blocks+k,:] = Ims[i][j*sz:(j+1)*sz,k*sz:(k+1)*sz].flatten()\n",
    "        #TODO: Write a code snippet that performs as indicated in the above comment\n",
    "        \n",
    "        X_mean = np.mean(X, 0) #mean of each column\n",
    "        X = X - np.repeat(X_mean.reshape(1, -1), X.shape[0], 0)\n",
    "\n",
    "        '''\n",
    "        Perform eigendecomposition on X^T X and arrange the eigenvectors\n",
    "        in decreasing order of eigenvalues into a matrix D\n",
    "        '''\n",
    "        la,D = np.linalg.eigh(np.dot(X.T,X)) #la means lambda\n",
    "        ind = (-la).argsort()\n",
    "        D = D[:,ind]\n",
    "        \n",
    "        #TODO: Write a code snippet that performs as indicated in the above comment\n",
    "        \n",
    "        c = np.dot(D.T, X.T)\n",
    "        \n",
    "        for i in range(0, 200, 10):\n",
    "            plot_reconstructions(D=D, c=c, num_coeff_array=nc, X_mean=X_mean.reshape((sz, sz)), n_blocks=int(256/sz), im_num=i)\n",
    "\n",
    "        plot_top_16(D, sz, imname='output/hw1a_top16_{0}.png'.format(sz))\n",
    "    print (datetime.datetime.now())\n",
    "\n",
    "if __name__ == '__main__':\n",
    "    main()\n",
    "    \n",
    "    "
   ]
  },
  {
   "cell_type": "code",
   "execution_count": null,
   "metadata": {
    "collapsed": true
   },
   "outputs": [],
   "source": [
    "\n"
   ]
  },
  {
   "cell_type": "code",
   "execution_count": null,
   "metadata": {
    "collapsed": true
   },
   "outputs": [],
   "source": []
  }
 ],
 "metadata": {
  "anaconda-cloud": {},
  "kernelspec": {
   "display_name": "Python [Root]",
   "language": "python",
   "name": "Python [Root]"
  },
  "language_info": {
   "codemirror_mode": {
    "name": "ipython",
    "version": 3
   },
   "file_extension": ".py",
   "mimetype": "text/x-python",
   "name": "python",
   "nbconvert_exporter": "python",
   "pygments_lexer": "ipython3",
   "version": "3.5.2"
  }
 },
 "nbformat": 4,
 "nbformat_minor": 0
}
