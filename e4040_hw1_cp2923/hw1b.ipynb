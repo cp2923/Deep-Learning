{
 "cells": [
  {
   "cell_type": "code",
   "execution_count": 2,
   "metadata": {
    "collapsed": false
   },
   "outputs": [
    {
     "name": "stdout",
     "output_type": "stream",
     "text": [
      "env: THEANO_FLAGS=device=cpu\n"
     ]
    }
   ],
   "source": [
    "%env THEANO_FLAGS=device=cpu\n",
    "import os\n",
    "from os import walk\n",
    "import numpy as np\n",
    "import matplotlib as mpl\n",
    "mpl.use('Agg')\n",
    "import matplotlib.pyplot as plt\n",
    "import matplotlib.cm as cm\n",
    "import numpy.linalg as linalg\n",
    "\n",
    "from PIL import Image\n",
    "\n",
    "import theano\n",
    "import theano.tensor as T"
   ]
  },
  {
   "cell_type": "code",
   "execution_count": 34,
   "metadata": {
    "collapsed": true
   },
   "outputs": [],
   "source": [
    "'''\n",
    "Implement the functions that were not implemented and complete the\n",
    "parts of main according to the instructions in comments.\n",
    "'''\n",
    "\n",
    "def reconstructed_image(D,c,num_coeffs,X_mean,im_num):\n",
    "    '''\n",
    "    This function reconstructs an image given the number of\n",
    "    coefficients for each image specified by num_coeffs\n",
    "    '''\n",
    "    \n",
    "    '''\n",
    "        Parameters\n",
    "    ---------------\n",
    "    c: np.ndarray\n",
    "        a n x m matrix  representing the coefficients of all the image blocks.\n",
    "        n represents the maximum dimension of the PCA space.\n",
    "        m is (number of images x n_blocks**2)\n",
    "\n",
    "    D: np.ndarray\n",
    "        an N x n matrix representing the basis vectors of the PCA space\n",
    "        N is the dimension of the original space (number of pixels in a block)\n",
    "\n",
    "    im_num: Integer\n",
    "        index of the image to visualize\n",
    "\n",
    "    X_mean: np.ndarray\n",
    "        a matrix representing the mean block.\n",
    "\n",
    "    num_coeffs: Integer\n",
    "        an integer that specifies the number of top components to be\n",
    "        considered while reconstructing\n",
    "    '''\n",
    "    \n",
    "    c_im = c[:num_coeffs,im_num]\n",
    "    D_im = D[:,:num_coeffs]\n",
    "    \n",
    "    #TODO: Enter code below for reconstructing the image\n",
    "    #......................\n",
    "    #......................\n",
    "    #X_recon_img = ........\n",
    "    X_recon_img = np.dot(c_im.T,D_im.T).reshape(256,256) + X_mean\n",
    "\n",
    "    return X_recon_img"
   ]
  },
  {
   "cell_type": "code",
   "execution_count": 36,
   "metadata": {
    "collapsed": true
   },
   "outputs": [],
   "source": [
    "def plot_reconstructions(D,c,num_coeff_array,X_mean,im_num):\n",
    "    '''\n",
    "    Plots 9 reconstructions of a particular image using D as the basis matrix and coeffiecient\n",
    "    vectors from c\n",
    "\n",
    "    Parameters\n",
    "    ------------------------\n",
    "        num_coeff_array: Iterable\n",
    "            an iterable with 9 elements representing the number_of coefficients\n",
    "            to use for reconstruction for each of the 9 plots\n",
    "        \n",
    "        c: np.ndarray\n",
    "            a l x m matrix  representing the coefficients of all blocks in a particular image\n",
    "            l represents the dimension of the PCA space used for reconstruction\n",
    "            m represents the number of blocks in an image\n",
    "\n",
    "        D: np.ndarray\n",
    "            an N x l matrix representing l basis vectors of the PCA space\n",
    "            N is the dimension of the original space (number of pixels in a block)\n",
    "\n",
    "        X_mean: basis vectors represent the divergence from the mean so this\n",
    "            matrix should be added to all reconstructed blocks\n",
    "\n",
    "        im_num: Integer\n",
    "            index of the image to visualize\n",
    "    '''\n",
    "    f, axarr = plt.subplots(3,3)\n",
    "    for i in range(3):\n",
    "        for j in range(3):\n",
    "            plt.axes(axarr[i,j])\n",
    "            plt.imshow(reconstructed_image(D,c,num_coeff_array[i*3+j],X_mean,im_num))\n",
    "            \n",
    "    f.savefig('outputb/hw1b_{0}.png'.format(im_num))\n",
    "    plt.close(f)"
   ]
  },
  {
   "cell_type": "code",
   "execution_count": 5,
   "metadata": {
    "collapsed": true
   },
   "outputs": [],
   "source": [
    "def plot_top_16(D, sz, imname):\n",
    "    '''\n",
    "    Plots the top 16 components from the basis matrix D.\n",
    "    Each basis vector represents an image block of shape (sz, sz)\n",
    "\n",
    "    Parameters\n",
    "    -------------\n",
    "    D: np.ndarray\n",
    "        N x n matrix representing the basis vectors of the PCA space\n",
    "        N is the dimension of the original space (number of pixels in a block)\n",
    "        n represents the maximum dimension of the PCA space (assumed to be atleast 16)\n",
    "\n",
    "    sz: Integer\n",
    "        The height and width of each block\n",
    "\n",
    "    imname: string\n",
    "        name of file where image will be saved.\n",
    "    '''\n",
    "    #TODO: Obtain top 16 components of D and plot them\n",
    "    \n",
    "    f, axarr = plt.subplots(4,4)\n",
    "    for i in range(16):\n",
    "        plt.axes(axarr[int(np.floor(i/4)),np.mod(i,4)])\n",
    "        plt.imshow(D.T[i].reshape(sz,sz))\n",
    "            \n",
    "    f.savefig(imname)\n",
    "    plt.close(f)"
   ]
  },
  {
   "cell_type": "code",
   "execution_count": 31,
   "metadata": {
    "collapsed": true
   },
   "outputs": [],
   "source": [
    "for path, dirs, files in os.walk('Fei_256'):\n",
    "    l = len(files)\n",
    "Ims = np.zeros((l,256*256))\n",
    "for i,name in zip(range(l),files):\n",
    "    Ims[i] = np.array(Image.open('Fei_256/'+ name), dtype= float).flatten()\n",
    "Ims = Ims.astype(np.float32)\n",
    "X_mn = np.mean(Ims, 0)\n",
    "X = Ims - np.repeat(X_mn.reshape(1, -1), Ims.shape[0], 0)\n"
   ]
  },
  {
   "cell_type": "code",
   "execution_count": 7,
   "metadata": {
    "collapsed": false
   },
   "outputs": [
    {
     "data": {
      "text/plain": [
       "65536"
      ]
     },
     "execution_count": 7,
     "metadata": {},
     "output_type": "execute_result"
    }
   ],
   "source": [
    "len(X[1])"
   ]
  },
  {
   "cell_type": "code",
   "execution_count": 51,
   "metadata": {
    "collapsed": false
   },
   "outputs": [],
   "source": [
    "def main():\n",
    "    '''\n",
    "    Read here all images(grayscale) from Fei_256 folder and collapse \n",
    "    each image to get an numpy array Ims with size (no_images, height*width).\n",
    "    Make sure the images are read after sorting the filenames\n",
    "    '''\n",
    "    for path, dirs, files in os.walk('Fei_256'):\n",
    "        l = len(files)\n",
    "    Ims = np.zeros((l,256*256))\n",
    "    for i,name in zip(range(l),files):\n",
    "        Ims[i] = np.array(Image.open('Fei_256/'+ name), dtype= float).flatten()\n",
    "    #TODO: Write a code snippet that performs as indicated in the above comment\n",
    "    \n",
    "    Ims = Ims.astype(np.float32)\n",
    "    X_mn = np.mean(Ims, 0)\n",
    "    X = Ims - np.repeat(X_mn.reshape(1, -1), Ims.shape[0], 0)\n",
    "\n",
    "    '''\n",
    "    Use theano to perform gradient descent to get top 16 PCA components of X\n",
    "    Put them into a matrix D with decreasing order of eigenvalues\n",
    "\n",
    "    If you are not using the provided AMI and get an error \"Cannot construct a ufunc with more than 32 operands\" :\n",
    "    You need to perform a patch to theano from this pull(https://github.com/Theano/Theano/pull/3532)\n",
    "    Alternatively you can downgrade numpy to 1.9.3, scipy to 0.15.1, matplotlib to 1.4.2\n",
    "    '''\n",
    "    \n",
    "\n",
    "    d = theano.shared(np.random.randn(len(X[1])))\n",
    "    x = T.dmatrix()\n",
    "    xd = T.dot(x, d)\n",
    "    evals = []\n",
    "    evecs = []\n",
    "    i,j = T.dscalars('i','j')\n",
    "    for i in xrange(16):\n",
    "        cost = T.dot(xd.T, xd) - np.sum(evals[j]*T.dot(evecs[j], d)*T.dot(evecs[j], d) for j in xrange(i))\n",
    "        gd = T.grad(cost, d)\n",
    "        y = d + 0.05*gd\n",
    "        update_d = y / y.norm(2)\n",
    "        train = theano.function(inputs=[x],outputs = [d], updates=[(d, update_d)])\n",
    "        t = 0\n",
    "        #tol = 0.005\n",
    "        while t < 10: #and change in d < tol:\n",
    "            train(X)\n",
    "            t = t+1\n",
    "        v = d.get_value()\n",
    "        evecs.append(v)\n",
    "        Xv = np.dot(X,v)\n",
    "        la = np.dot(Xv.T,Xv)\n",
    "        evals.append(la)\n",
    "        \n",
    "    evals = np.array(evals)\n",
    "    evecs = np.array(evecs)\n",
    "\n",
    "    D = evecs.T\n",
    "    c= np.dot(evecs,X.T)\n",
    "    \n",
    "    #TODO: Write a code snippet that performs as indicated in the above comment\n",
    "        \n",
    "    for i in range(0, 200, 10):\n",
    "        plot_reconstructions(D=D, c=c, num_coeff_array=[1, 2, 4, 6, 8, 10, 12, 14, 16], X_mean=X_mn.reshape((256, 256)), im_num=i)\n",
    "\n",
    "    plot_top_16(D, 256, 'outputb/hw1b_top16_256.png')\n",
    "\n",
    "\n",
    "if __name__ == '__main__':\n",
    "    main()"
   ]
  },
  {
   "cell_type": "code",
   "execution_count": 56,
   "metadata": {
    "collapsed": false
   },
   "outputs": [
    {
     "data": {
      "text/plain": [
       "array([  3.91450369e+09,   1.51006420e+09,   8.75821262e+08,\n",
       "         5.89224998e+08,   4.61892347e+08,   3.65738329e+08,\n",
       "         3.29686630e+08,   2.74568334e+08,   2.37292433e+08,\n",
       "         2.22708103e+08,   1.92926961e+08,   1.72007885e+08,\n",
       "         1.63052120e+08,   1.49502569e+08,   1.19181209e+08,\n",
       "         1.08308119e+08])"
      ]
     },
     "execution_count": 56,
     "metadata": {},
     "output_type": "execute_result"
    }
   ],
   "source": [
    "evals"
   ]
  },
  {
   "cell_type": "code",
   "execution_count": 55,
   "metadata": {
    "collapsed": false
   },
   "outputs": [
    {
     "data": {
      "text/plain": [
       "(16, 65536)"
      ]
     },
     "execution_count": 55,
     "metadata": {},
     "output_type": "execute_result"
    }
   ],
   "source": [
    "D.T.shape"
   ]
  },
  {
   "cell_type": "code",
   "execution_count": null,
   "metadata": {
    "collapsed": true
   },
   "outputs": [],
   "source": []
  }
 ],
 "metadata": {
  "kernelspec": {
   "display_name": "Python [py27]",
   "language": "python",
   "name": "Python [py27]"
  },
  "language_info": {
   "codemirror_mode": {
    "name": "ipython",
    "version": 2
   },
   "file_extension": ".py",
   "mimetype": "text/x-python",
   "name": "python",
   "nbconvert_exporter": "python",
   "pygments_lexer": "ipython2",
   "version": "2.7.12"
  }
 },
 "nbformat": 4,
 "nbformat_minor": 0
}
